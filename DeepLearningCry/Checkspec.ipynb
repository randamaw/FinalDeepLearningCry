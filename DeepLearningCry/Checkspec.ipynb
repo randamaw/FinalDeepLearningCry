{
 "cells": [
  {
   "cell_type": "code",
   "execution_count": 1,
   "metadata": {},
   "outputs": [
    {
     "name": "stderr",
     "output_type": "stream",
     "text": [
      "/anaconda3/lib/python3.6/site-packages/matplotlib/axes/_axes.py:7585: RuntimeWarning: divide by zero encountered in log10\n",
      "  Z = 10. * np.log10(spec)\n"
     ]
    },
    {
     "data": {
      "text/plain": [
       "<Figure size 640x480 with 2 Axes>"
      ]
     },
     "metadata": {},
     "output_type": "display_data"
    },
    {
     "data": {
      "text/plain": [
       "<Figure size 640x480 with 1 Axes>"
      ]
     },
     "metadata": {},
     "output_type": "display_data"
    }
   ],
   "source": [
    "#import the pyplot and wavfile modules \n",
    "\n",
    "import matplotlib.pyplot as plot\n",
    "from scipy.io import wavfile\n",
    "import librosa\n",
    "import numpy as np\n",
    "from numpy import load\n",
    "# Read the wav file (mono)\n",
    "\n",
    "samplingFrequency, signalData = wavfile.read('ae5f103b-5fee-442f-bb1b-d9d0570c46ab-1431533857965-1.7-m-26-bp.wav')\n",
    "\n",
    "# Plot the signal read from wav file\n",
    "\n",
    "plot.subplot(211)\n",
    "plot.title('Spectrogram of a .wav file of baby crying')\n",
    "plot.plot(signalData)\n",
    "plot.xlabel('Sample')\n",
    "plot.ylabel('Amplitude')\n",
    "\n",
    "\n",
    "\n",
    "plot.subplot(212)\n",
    "plot.specgram(signalData,Fs=samplingFrequency)\n",
    "plot.xlabel('Time')\n",
    "plot.ylabel('Frequency (Hz)')\n",
    "\n",
    "plot.show()\n",
    "\n",
    "data = np.load('ae5f103b-5fee-442f-bb1b-d9d0570c46ab-1431533857965-1.7-m-26-bp.wav.npz')\n",
    "\n",
    "melgram = data ['melgram']\n",
    "\n",
    "melgram = np.squeeze(melgram)\n",
    "\n",
    "plot.plot(melgram)\n",
    "plot.ylabel('Mel Scale')\n",
    "plot.xlabel('Frequency')\n",
    "plot.show()"
   ]
  },
  {
   "cell_type": "code",
   "execution_count": 6,
   "metadata": {},
   "outputs": [
    {
     "name": "stdout",
     "output_type": "stream",
     "text": [
      "[[-32.78 -32.78 -32.78 ... -32.78 -32.78 -32.78]\n",
      " [-32.78 -32.78 -32.78 ... -32.78 -32.78 -32.78]\n",
      " [-32.78 -32.78 -32.78 ... -32.78 -32.78 -32.78]\n",
      " ...\n",
      " [-32.78 -32.78 -32.78 ... -32.78 -32.78 -32.78]\n",
      " [-32.78 -32.78 -32.78 ... -32.78 -32.78 -32.78]\n",
      " [-32.78 -32.78 -32.78 ... -32.78 -32.78 -32.78]]\n"
     ]
    }
   ],
   "source": [
    "#  This commented section shows melgram array\n",
    "lst = data.files\n",
    "\n",
    "print(melgram)\n",
    "\n",
    "\n",
    "\n"
   ]
  },
  {
   "cell_type": "code",
   "execution_count": null,
   "metadata": {},
   "outputs": [],
   "source": []
  }
 ],
 "metadata": {
  "kernelspec": {
   "display_name": "Python 3",
   "language": "python",
   "name": "python3"
  },
  "language_info": {
   "codemirror_mode": {
    "name": "ipython",
    "version": 3
   },
   "file_extension": ".py",
   "mimetype": "text/x-python",
   "name": "python",
   "nbconvert_exporter": "python",
   "pygments_lexer": "ipython3",
   "version": "3.6.6"
  }
 },
 "nbformat": 4,
 "nbformat_minor": 2
}
